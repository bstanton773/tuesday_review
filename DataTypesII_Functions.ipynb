{
 "cells": [
  {
   "cell_type": "markdown",
   "metadata": {},
   "source": [
    "### Data Types II\n",
    "<ul>\n",
    "    <li>Lists</li>\n",
    "    <li>Tuples</li>\n",
    "    <li>Dictionaries</li>\n",
    "    <li>Sets</li>\n",
    "</ul>"
   ]
  },
  {
   "cell_type": "markdown",
   "metadata": {},
   "source": [
    "###### Lists"
   ]
  },
  {
   "cell_type": "code",
   "execution_count": 7,
   "metadata": {},
   "outputs": [
    {
     "name": "stdout",
     "output_type": "stream",
     "text": [
      "[1, 2.34, 'String', [1, 2], <function some_func at 0x000002782F6FA700>, True, {'a': 1}]\n",
      "[]\n",
      "[1, 1, 1, 2, 2, 3, 1, 1, 2, 2, 3, 3, 3]\n"
     ]
    }
   ],
   "source": [
    "# Ordered\n",
    "my_list = [1, 2, 3, 4, 5]\n",
    "new_list = [5, 4, 3, 2, 1]\n",
    "\n",
    "my_list == new_list\n",
    "\n",
    "# Contain Arb Objects\n",
    "def some_func():\n",
    "    return 1\n",
    "arb_object_list = [1, 2.34, 'String', [1, 2], some_func, True, {'a': 1}]\n",
    "print(arb_object_list)\n",
    "\n",
    "empty_list = []\n",
    "print(empty_list)\n",
    "\n",
    "repeat_list = [1, 1, 1, 2, 2, 3, 1, 1, 2, 2, 3, 3, 3]\n",
    "print(repeat_list)"
   ]
  },
  {
   "cell_type": "code",
   "execution_count": 22,
   "metadata": {},
   "outputs": [
    {
     "name": "stdout",
     "output_type": "stream",
     "text": [
      "[1, 2, 3, 4, 5]\n",
      "1\n",
      "Length: 5\n",
      "Index 0: 1\n",
      "Index 1: 2\n",
      "Index 2: 3\n",
      "Index 3: 4\n",
      "Index 4: 5\n",
      "1\n"
     ]
    }
   ],
   "source": [
    "# Lists elements accessed by index\n",
    "print(my_list)\n",
    "print(my_list[0])\n",
    "print('Length:', len(my_list))\n",
    "\n",
    "for i in range(len(my_list)):\n",
    "    print(f'Index {i}: {my_list[i]}')\n",
    "    \n",
    "# Negative Index\n",
    "print(my_list[-5])"
   ]
  },
  {
   "cell_type": "code",
   "execution_count": 28,
   "metadata": {},
   "outputs": [
    {
     "name": "stdout",
     "output_type": "stream",
     "text": [
      "1 Shoha\n",
      "3 Sam\n",
      "5 Sally\n"
     ]
    }
   ],
   "source": [
    "# Print the index and the name if the name starts with an S\n",
    "\n",
    "names = ['Brian', 'Shoha', 'Nate', 'Sam', 'Joel', 'Sally']\n",
    "\n",
    "# Loop through names list with index/value\n",
    "for index in range(len(names)):\n",
    "    # Check if the name at index 0 is equal to 'S'\n",
    "    if names[index][0] == 'S':\n",
    "        # If true, print the name and the index\n",
    "        print(index, names[index])"
   ]
  },
  {
   "cell_type": "code",
   "execution_count": 33,
   "metadata": {},
   "outputs": [
    {
     "name": "stdout",
     "output_type": "stream",
     "text": [
      "1454\n"
     ]
    }
   ],
   "source": [
    "# Add up the numbers in the list below and print out the sum\n",
    "\n",
    "string_nums = ['22', '33', '44', '55', '66', '1,234']\n",
    "\n",
    "total = 0\n",
    "for s_num in string_nums:\n",
    "    total += int(s_num.replace(',',''))\n",
    "print(total)"
   ]
  },
  {
   "cell_type": "markdown",
   "metadata": {},
   "source": [
    "##### List Slicing"
   ]
  },
  {
   "cell_type": "code",
   "execution_count": 60,
   "metadata": {},
   "outputs": [
    {
     "name": "stdout",
     "output_type": "stream",
     "text": [
      "23\n",
      "['Brian', 23, 44.55]\n",
      "[44.55, [1, 2, 3], 'Shoha']\n",
      "['Brian', 44.55, 'Shoha']\n",
      "['Shoha', [1, 2, 3], 44.55, 23, 'Brian']\n",
      "[23, [1, 2, 3]]\n",
      "Trian\n"
     ]
    }
   ],
   "source": [
    "# Syntax list[start:stop:step]\n",
    "l1 = ['Brian', 23, 44.55, [1, 2, 3], 'Shoha']\n",
    "# To get one single element list[idx]\n",
    "print(l1[1])\n",
    "\n",
    "# Slice the list using [start:stop]\n",
    "# To go from beginning of list to a point(exclusive)- list[:idx_end]\n",
    "print(l1[:3]) # Gives us l1 from index 0, 1, 2\n",
    "# To go from point(inclusive) in list to end - list[idx_start:]\n",
    "print(l1[2:]) # Gives us l1 from index 2, 3, 4\n",
    "\n",
    "\n",
    "# Slice list for every other item - list[::step]\n",
    "print(l1[::2]) # list of index 0, 2, 4\n",
    "\n",
    "# SLice list for every item stepping backwards - list[::-1] - return a copy of list reversed\n",
    "print(l1[::-1])\n",
    "\n",
    "\n",
    "# Combo\n",
    "print(l1[1::2])\n",
    "\n",
    "\n",
    "print(l1[0].replace('B', 'T'))"
   ]
  },
  {
   "cell_type": "code",
   "execution_count": 45,
   "metadata": {},
   "outputs": [
    {
     "data": {
      "text/plain": [
       "[2, 4, 6, 8, 10]"
      ]
     },
     "execution_count": 45,
     "metadata": {},
     "output_type": "execute_result"
    }
   ],
   "source": [
    "start = 1\n",
    "stop = 10\n",
    "step = 2\n",
    "\n",
    "my_list = [1, 2, 3, 4, 5, 6, 7, 8, 9, 10, 11, 12, 13, 14]\n",
    "\n",
    "my_list[start:stop:step]"
   ]
  },
  {
   "cell_type": "code",
   "execution_count": 38,
   "metadata": {},
   "outputs": [
    {
     "name": "stdout",
     "output_type": "stream",
     "text": [
      "Help on built-in function isinstance in module builtins:\n",
      "\n",
      "isinstance(obj, class_or_tuple, /)\n",
      "    Return whether an object is an instance of a class or of a subclass thereof.\n",
      "    \n",
      "    A tuple, as in ``isinstance(x, (A, B, ...))``, may be given as the target to\n",
      "    check against. This is equivalent to ``isinstance(x, A) or isinstance(x, B)\n",
      "    or ...`` etc.\n",
      "\n"
     ]
    }
   ],
   "source": [
    "help(isinstance)"
   ]
  },
  {
   "cell_type": "code",
   "execution_count": 39,
   "metadata": {},
   "outputs": [
    {
     "name": "stdout",
     "output_type": "stream",
     "text": [
      "STRING LIST ['Brian', 'Shoha']\n",
      "NUM LIST [1, 2, 3]\n",
      "LIST LIST [[1, 2, 3]]\n"
     ]
    }
   ],
   "source": [
    "some_list = ['Brian', 1, 2, 3, 'Shoha', [1, 2, 3]]\n",
    "\n",
    "string_list = []\n",
    "num_list = []\n",
    "list_list = []\n",
    "for element in some_list:\n",
    "    if isinstance(element, str):\n",
    "        string_list.append(element)\n",
    "    elif isinstance(element, int):\n",
    "        num_list.append(element)\n",
    "    elif isinstance(element, list):\n",
    "        list_list.append(element)\n",
    "\n",
    "print('STRING LIST', string_list)\n",
    "print('NUM LIST', num_list)\n",
    "print('LIST LIST', list_list)"
   ]
  },
  {
   "cell_type": "code",
   "execution_count": 52,
   "metadata": {},
   "outputs": [
    {
     "name": "stdout",
     "output_type": "stream",
     "text": [
      "Help on class list in module builtins:\n",
      "\n",
      "class list(object)\n",
      " |  list(iterable=(), /)\n",
      " |  \n",
      " |  Built-in mutable sequence.\n",
      " |  \n",
      " |  If no argument is given, the constructor creates a new empty list.\n",
      " |  The argument must be an iterable if specified.\n",
      " |  \n",
      " |  Methods defined here:\n",
      " |  \n",
      " |  __add__(self, value, /)\n",
      " |      Return self+value.\n",
      " |  \n",
      " |  __contains__(self, key, /)\n",
      " |      Return key in self.\n",
      " |  \n",
      " |  __delitem__(self, key, /)\n",
      " |      Delete self[key].\n",
      " |  \n",
      " |  __eq__(self, value, /)\n",
      " |      Return self==value.\n",
      " |  \n",
      " |  __ge__(self, value, /)\n",
      " |      Return self>=value.\n",
      " |  \n",
      " |  __getattribute__(self, name, /)\n",
      " |      Return getattr(self, name).\n",
      " |  \n",
      " |  __getitem__(...)\n",
      " |      x.__getitem__(y) <==> x[y]\n",
      " |  \n",
      " |  __gt__(self, value, /)\n",
      " |      Return self>value.\n",
      " |  \n",
      " |  __iadd__(self, value, /)\n",
      " |      Implement self+=value.\n",
      " |  \n",
      " |  __imul__(self, value, /)\n",
      " |      Implement self*=value.\n",
      " |  \n",
      " |  __init__(self, /, *args, **kwargs)\n",
      " |      Initialize self.  See help(type(self)) for accurate signature.\n",
      " |  \n",
      " |  __iter__(self, /)\n",
      " |      Implement iter(self).\n",
      " |  \n",
      " |  __le__(self, value, /)\n",
      " |      Return self<=value.\n",
      " |  \n",
      " |  __len__(self, /)\n",
      " |      Return len(self).\n",
      " |  \n",
      " |  __lt__(self, value, /)\n",
      " |      Return self<value.\n",
      " |  \n",
      " |  __mul__(self, value, /)\n",
      " |      Return self*value.\n",
      " |  \n",
      " |  __ne__(self, value, /)\n",
      " |      Return self!=value.\n",
      " |  \n",
      " |  __repr__(self, /)\n",
      " |      Return repr(self).\n",
      " |  \n",
      " |  __reversed__(self, /)\n",
      " |      Return a reverse iterator over the list.\n",
      " |  \n",
      " |  __rmul__(self, value, /)\n",
      " |      Return value*self.\n",
      " |  \n",
      " |  __setitem__(self, key, value, /)\n",
      " |      Set self[key] to value.\n",
      " |  \n",
      " |  __sizeof__(self, /)\n",
      " |      Return the size of the list in memory, in bytes.\n",
      " |  \n",
      " |  append(self, object, /)\n",
      " |      Append object to the end of the list.\n",
      " |  \n",
      " |  clear(self, /)\n",
      " |      Remove all items from list.\n",
      " |  \n",
      " |  copy(self, /)\n",
      " |      Return a shallow copy of the list.\n",
      " |  \n",
      " |  count(self, value, /)\n",
      " |      Return number of occurrences of value.\n",
      " |  \n",
      " |  extend(self, iterable, /)\n",
      " |      Extend list by appending elements from the iterable.\n",
      " |  \n",
      " |  index(self, value, start=0, stop=9223372036854775807, /)\n",
      " |      Return first index of value.\n",
      " |      \n",
      " |      Raises ValueError if the value is not present.\n",
      " |  \n",
      " |  insert(self, index, object, /)\n",
      " |      Insert object before index.\n",
      " |  \n",
      " |  pop(self, index=-1, /)\n",
      " |      Remove and return item at index (default last).\n",
      " |      \n",
      " |      Raises IndexError if list is empty or index is out of range.\n",
      " |  \n",
      " |  remove(self, value, /)\n",
      " |      Remove first occurrence of value.\n",
      " |      \n",
      " |      Raises ValueError if the value is not present.\n",
      " |  \n",
      " |  reverse(self, /)\n",
      " |      Reverse *IN PLACE*.\n",
      " |  \n",
      " |  sort(self, /, *, key=None, reverse=False)\n",
      " |      Sort the list in ascending order and return None.\n",
      " |      \n",
      " |      The sort is in-place (i.e. the list itself is modified) and stable (i.e. the\n",
      " |      order of two equal elements is maintained).\n",
      " |      \n",
      " |      If a key function is given, apply it once to each list item and sort them,\n",
      " |      ascending or descending, according to their function values.\n",
      " |      \n",
      " |      The reverse flag can be set to sort in descending order.\n",
      " |  \n",
      " |  ----------------------------------------------------------------------\n",
      " |  Static methods defined here:\n",
      " |  \n",
      " |  __new__(*args, **kwargs) from builtins.type\n",
      " |      Create and return a new object.  See help(type) for accurate signature.\n",
      " |  \n",
      " |  ----------------------------------------------------------------------\n",
      " |  Data and other attributes defined here:\n",
      " |  \n",
      " |  __hash__ = None\n",
      "\n"
     ]
    }
   ],
   "source": [
    "help(list)"
   ]
  },
  {
   "cell_type": "code",
   "execution_count": 3,
   "metadata": {},
   "outputs": [
    {
     "name": "stdout",
     "output_type": "stream",
     "text": [
      "W\n"
     ]
    },
    {
     "ename": "TypeError",
     "evalue": "'str' object does not support item assignment",
     "output_type": "error",
     "traceback": [
      "\u001b[1;31m---------------------------------------------------------------------------\u001b[0m",
      "\u001b[1;31mTypeError\u001b[0m                                 Traceback (most recent call last)",
      "\u001b[1;32m<ipython-input-3-76e99812bdea>\u001b[0m in \u001b[0;36m<module>\u001b[1;34m\u001b[0m\n\u001b[0;32m      4\u001b[0m \u001b[1;33m\u001b[0m\u001b[0m\n\u001b[0;32m      5\u001b[0m \u001b[1;31m# Item assignment with a string WILL NOT work\u001b[0m\u001b[1;33m\u001b[0m\u001b[1;33m\u001b[0m\u001b[1;33m\u001b[0m\u001b[0m\n\u001b[1;32m----> 6\u001b[1;33m \u001b[0mmy_string\u001b[0m\u001b[1;33m[\u001b[0m\u001b[1;36m6\u001b[0m\u001b[1;33m]\u001b[0m \u001b[1;33m=\u001b[0m \u001b[1;34m'Z'\u001b[0m\u001b[1;33m\u001b[0m\u001b[1;33m\u001b[0m\u001b[0m\n\u001b[0m",
      "\u001b[1;31mTypeError\u001b[0m: 'str' object does not support item assignment"
     ]
    }
   ],
   "source": [
    "my_string = 'Hello World'\n",
    "\n",
    "print(my_string[6])\n",
    "\n",
    "# Item assignment with a string WILL NOT work\n",
    "my_string[6] = 'Z'"
   ]
  },
  {
   "cell_type": "code",
   "execution_count": 5,
   "metadata": {
    "scrolled": true
   },
   "outputs": [
    {
     "name": "stdout",
     "output_type": "stream",
     "text": [
      "W\n",
      "['H', 'e', 'l', 'l', 'o', ' ', 'Z', 'o', 'r', 'l', 'd']\n"
     ]
    }
   ],
   "source": [
    "# Lists ARE mutable meaning they do support item assignment\n",
    "my_list = ['H', 'e', 'l', 'l', 'o', ' ', 'W', 'o', 'r', 'l', 'd']\n",
    "\n",
    "\n",
    "print(my_list[6])\n",
    "\n",
    "my_list[6] = 'Z'\n",
    "\n",
    "print(my_list)"
   ]
  },
  {
   "cell_type": "code",
   "execution_count": 14,
   "metadata": {},
   "outputs": [
    {
     "data": {
      "text/plain": [
       "['G', 'o', 'o', 'd', 'b', 'y', 'e', ' ', 'Z', 'o', 'r', 'l', 'd']"
      ]
     },
     "execution_count": 14,
     "metadata": {},
     "output_type": "execute_result"
    }
   ],
   "source": [
    "# Multiple Item Assignment\n",
    "my_list[0:13] = ['G', 'o', 'o', 'd', 'b', 'y', 'e']\n",
    "my_list"
   ]
  },
  {
   "cell_type": "code",
   "execution_count": 20,
   "metadata": {},
   "outputs": [
    {
     "data": {
      "text/plain": [
       "['G',\n",
       " 'o',\n",
       " 'o',\n",
       " 'd',\n",
       " 'b',\n",
       " 'y',\n",
       " 'e',\n",
       " ' ',\n",
       " 'Z',\n",
       " 'o',\n",
       " 'r',\n",
       " 'l',\n",
       " 'd',\n",
       " '!',\n",
       " '!',\n",
       " 2,\n",
       " 'H',\n",
       " 'e',\n",
       " 'l',\n",
       " 'l',\n",
       " 'o']"
      ]
     },
     "execution_count": 20,
     "metadata": {},
     "output_type": "execute_result"
    }
   ],
   "source": [
    "# Appending to a list\n",
    "my_list += [3]\n",
    "my_list"
   ]
  },
  {
   "cell_type": "code",
   "execution_count": 22,
   "metadata": {},
   "outputs": [
    {
     "data": {
      "text/plain": [
       "[1, 2]"
      ]
     },
     "execution_count": 22,
     "metadata": {},
     "output_type": "execute_result"
    }
   ],
   "source": [
    "[1] + [2]"
   ]
  },
  {
   "cell_type": "code",
   "execution_count": 25,
   "metadata": {},
   "outputs": [
    {
     "data": {
      "text/plain": [
       "[1, 2, 3, 4, 2]"
      ]
     },
     "execution_count": 25,
     "metadata": {},
     "output_type": "execute_result"
    }
   ],
   "source": [
    "[1, 2, 3, 4] + [2]"
   ]
  },
  {
   "cell_type": "code",
   "execution_count": 24,
   "metadata": {},
   "outputs": [
    {
     "data": {
      "text/plain": [
       "'HelloWorld'"
      ]
     },
     "execution_count": 24,
     "metadata": {},
     "output_type": "execute_result"
    }
   ],
   "source": [
    "'Hello' + 'World'"
   ]
  },
  {
   "cell_type": "code",
   "execution_count": 31,
   "metadata": {},
   "outputs": [
    {
     "data": {
      "text/plain": [
       "['Brian', 'Shoha', 'Sam', 'Derek', 2, 2]"
      ]
     },
     "execution_count": 31,
     "metadata": {},
     "output_type": "execute_result"
    }
   ],
   "source": [
    "name = ['Brian', 'Shoha', 'Sam', 'Derek']\n",
    "\n",
    "name += [2]\n",
    "\n",
    "name\n",
    "\n",
    "name.append(2)\n",
    "name"
   ]
  },
  {
   "cell_type": "code",
   "execution_count": 66,
   "metadata": {},
   "outputs": [
    {
     "data": {
      "text/plain": [
       "[1, 'even', 3, 'even', 5, 'even', 7, 'even', 9, 'even']"
      ]
     },
     "execution_count": 66,
     "metadata": {},
     "output_type": "execute_result"
    }
   ],
   "source": [
    "# Go through the list and if the value of the element is even, replace it with the word 'even'\n",
    "# nums => [1, 'even', 3, 'even', 5, 'even', 7, 'even', 9, 'even']\n",
    "nums = [1, 2, 3, 4, 5, 6, 7, 8, 9, 10]\n",
    "\n",
    "# 1. Loop through and look at each element in our list\n",
    "# 2. Check our element to see if it is even\n",
    "# 3. If it is even, replace the integer with the word 'even'\n",
    "for i in range(len(nums)):\n",
    "    if nums[i] % 2 == 0:\n",
    "        nums[i] = 'even'\n",
    "nums\n",
    "\n"
   ]
  },
  {
   "cell_type": "code",
   "execution_count": 49,
   "metadata": {},
   "outputs": [
    {
     "data": {
      "text/plain": [
       "False"
      ]
     },
     "execution_count": 49,
     "metadata": {},
     "output_type": "execute_result"
    }
   ],
   "source": [
    "my_num = 5\n",
    "\n",
    "my_num % 2 == 0"
   ]
  },
  {
   "cell_type": "code",
   "execution_count": 58,
   "metadata": {},
   "outputs": [
    {
     "data": {
      "text/plain": [
       "True"
      ]
     },
     "execution_count": 58,
     "metadata": {},
     "output_type": "execute_result"
    }
   ],
   "source": [
    "nums[5] % 2 == 0"
   ]
  },
  {
   "cell_type": "markdown",
   "metadata": {},
   "source": [
    "### User Defined Functions"
   ]
  },
  {
   "cell_type": "markdown",
   "metadata": {},
   "source": [
    "User Defined Functions are functions defined by the user (as opposed to builtin functions). A function usually takes in one or more inputs and has an output based on inputs."
   ]
  },
  {
   "cell_type": "code",
   "execution_count": 71,
   "metadata": {},
   "outputs": [
    {
     "name": "stdout",
     "output_type": "stream",
     "text": [
      "This is my_func\n",
      "Hello hello!\n",
      "This is my_func\n",
      "Hello hello!\n"
     ]
    }
   ],
   "source": [
    "# Syntax to define\n",
    "# def <function_name>(<parameter(s)>):\n",
    "#  --> Code to run when function is called/executed\n",
    "\n",
    "# Syntax to call/execute\n",
    "# <function_name>(<argument(s)>)\n",
    "\n",
    "def my_func():\n",
    "    print('This is my_func')\n",
    "    print('Hello hello!')\n",
    "    \n",
    "# Look at reference\n",
    "my_func\n",
    "\n",
    "# Execute\n",
    "my_func()\n",
    "my_func()"
   ]
  },
  {
   "cell_type": "markdown",
   "metadata": {},
   "source": [
    "##### Accepting Parameters -> Adding arguments"
   ]
  },
  {
   "cell_type": "code",
   "execution_count": 77,
   "metadata": {},
   "outputs": [
    {
     "data": {
      "text/plain": [
       "50"
      ]
     },
     "execution_count": 77,
     "metadata": {},
     "output_type": "execute_result"
    }
   ],
   "source": [
    "def f(x, z): \n",
    "    return x * z\n",
    "\n",
    "y = f(10, 5)\n",
    "\n",
    "y"
   ]
  },
  {
   "cell_type": "code",
   "execution_count": 78,
   "metadata": {},
   "outputs": [
    {
     "ename": "TypeError",
     "evalue": "f() missing 2 required positional arguments: 'x' and 'z'",
     "output_type": "error",
     "traceback": [
      "\u001b[1;31m---------------------------------------------------------------------------\u001b[0m",
      "\u001b[1;31mTypeError\u001b[0m                                 Traceback (most recent call last)",
      "\u001b[1;32m<ipython-input-78-c43e34e6d405>\u001b[0m in \u001b[0;36m<module>\u001b[1;34m\u001b[0m\n\u001b[1;32m----> 1\u001b[1;33m \u001b[0mf\u001b[0m\u001b[1;33m(\u001b[0m\u001b[1;33m)\u001b[0m\u001b[1;33m\u001b[0m\u001b[1;33m\u001b[0m\u001b[0m\n\u001b[0m",
      "\u001b[1;31mTypeError\u001b[0m: f() missing 2 required positional arguments: 'x' and 'z'"
     ]
    }
   ],
   "source": [
    "f()"
   ]
  },
  {
   "cell_type": "code",
   "execution_count": 85,
   "metadata": {},
   "outputs": [
    {
     "data": {
      "text/plain": [
       "'Hello, Brian Stanton'"
      ]
     },
     "execution_count": 85,
     "metadata": {},
     "output_type": "execute_result"
    }
   ],
   "source": [
    "def greet_person(first_name, last_name):\n",
    "    return f'Hello, {first_name} {last_name}'\n",
    "\n",
    "last_name = 'Stanton'\n",
    "first_name = 'Brian'\n",
    "greet_person(first_name, last_name)"
   ]
  },
  {
   "cell_type": "code",
   "execution_count": 92,
   "metadata": {},
   "outputs": [
    {
     "name": "stdout",
     "output_type": "stream",
     "text": [
      "2\n",
      "8\n",
      "0\n",
      "16\n"
     ]
    }
   ],
   "source": [
    "# Write a function that will take in two integers and find the absolute difference between the two.\n",
    "\n",
    "def my_func(num1, num2):\n",
    "    if num1 > num2:\n",
    "        num3 = num1 - num2\n",
    "    elif num2 > num1:\n",
    "        num3 = num2 - num1\n",
    "    else:\n",
    "        num3 = 0\n",
    "    return num3 # Absolute difference between num1 and num2\n",
    "\n",
    "# Call/execute our function\n",
    "print(my_func(4, 6)) # 2\n",
    "print(my_func(10, 2)) # 8\n",
    "print(my_func(10, 10)) # 0\n",
    "print(my_func(-10, 26)) #36 "
   ]
  },
  {
   "cell_type": "code",
   "execution_count": 96,
   "metadata": {},
   "outputs": [
    {
     "name": "stdout",
     "output_type": "stream",
     "text": [
      "2\n",
      "8\n",
      "0\n",
      "36\n"
     ]
    }
   ],
   "source": [
    "def my_func2(num1, num2):\n",
    "    if num1 > num2:\n",
    "        return num1 - num2\n",
    "    return num2 - num1\n",
    "\n",
    "print(my_func2(4, 6)) # 2\n",
    "print(my_func2(10, 2)) # 8\n",
    "print(my_func2(10, 10)) # 0\n",
    "print(my_func2(-10, 26)) #36 "
   ]
  },
  {
   "cell_type": "code",
   "execution_count": 104,
   "metadata": {},
   "outputs": [
    {
     "name": "stdout",
     "output_type": "stream",
     "text": [
      "['Jake', 'Claire', 'Marge']\n",
      "['Fred']\n",
      "['c']\n"
     ]
    }
   ],
   "source": [
    "# Given a list of names and a list of ages (assume len(names) == len(ages)) return a list of names of people over 30\n",
    "\n",
    "names = ['Jeff', 'Jake', 'Annie', 'Claire', 'George', 'Marge']\n",
    "ages = [22, 33, 12, 43, 15, 65]\n",
    "# Output: ['Jake', 'Claire', 'Marge']\n",
    "\n",
    "more_names = ['Fred', 'Wilma']\n",
    "more_ages = [31, 29]\n",
    "# Output: ['Fred']\n",
    "\n",
    "def over_thirty(list_of_names, list_of_ages):\n",
    "    list_of_people_over_thirty = []\n",
    "    for i in range(len(list_of_names)):\n",
    "        if list_of_ages[i] > 30:\n",
    "            list_of_people_over_thirty.append(list_of_names[i])\n",
    "    return list_of_people_over_thirty\n",
    "\n",
    "\n",
    "print(over_thirty(names, ages))\n",
    "print(over_thirty(more_names, more_ages))\n",
    "\n",
    "print(over_thirty(['a', 'b', 'c'], [1, 2, 35]))"
   ]
  },
  {
   "cell_type": "code",
   "execution_count": null,
   "metadata": {},
   "outputs": [],
   "source": []
  }
 ],
 "metadata": {
  "kernelspec": {
   "display_name": "Python 3",
   "language": "python",
   "name": "python3"
  },
  "language_info": {
   "codemirror_mode": {
    "name": "ipython",
    "version": 3
   },
   "file_extension": ".py",
   "mimetype": "text/x-python",
   "name": "python",
   "nbconvert_exporter": "python",
   "pygments_lexer": "ipython3",
   "version": "3.8.5"
  }
 },
 "nbformat": 4,
 "nbformat_minor": 4
}
